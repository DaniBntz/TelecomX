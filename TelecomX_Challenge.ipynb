{
  "nbformat": 4,
  "nbformat_minor": 0,
  "metadata": {
    "colab": {
      "provenance": [],
      "authorship_tag": "ABX9TyPaExrgFe0rMXsDF1IfQNTH",
      "include_colab_link": true
    },
    "kernelspec": {
      "name": "python3",
      "display_name": "Python 3"
    },
    "language_info": {
      "name": "python"
    }
  },
  "cells": [
    {
      "cell_type": "markdown",
      "metadata": {
        "id": "view-in-github",
        "colab_type": "text"
      },
      "source": [
        "<a href=\"https://colab.research.google.com/github/DaniBntz/TelecomX/blob/main/TelecomX_Challenge.ipynb\" target=\"_parent\"><img src=\"https://colab.research.google.com/assets/colab-badge.svg\" alt=\"Open In Colab\"/></a>"
      ]
    },
    {
      "cell_type": "markdown",
      "source": [
        "#**Telecom X Challenge**"
      ],
      "metadata": {
        "id": "_1P_jJITm2TP"
      }
    },
    {
      "cell_type": "markdown",
      "source": [
        "Se trata de un proyecto para evaluar los conocimientos como asistente de análisis de datos de la empresa \"Telecom X\", con el proyecto \"Churn de Clientes\". La empresa enfrenta una alta tasa de cancelaciones y necesita comprender los factores que llevan a la pérdida de clientes.\n",
        "\n",
        "\n",
        "\n"
      ],
      "metadata": {
        "id": "0WrPhYMgm8tM"
      }
    },
    {
      "cell_type": "markdown",
      "source": [
        "##1.Extracción"
      ],
      "metadata": {
        "id": "1aDDu1Y_mRxq"
      }
    },
    {
      "cell_type": "markdown",
      "source": [
        "Importar los datos de la API de Telecom X. Estos datos están disponibles en formato JSON y contienen información esencial sobre los clientes, incluyendo datos demográficos, tipo de servicio contratado y estado de evasión."
      ],
      "metadata": {
        "id": "cWzguHDcnnSn"
      }
    },
    {
      "cell_type": "markdown",
      "source": [
        "## 2. Transformación"
      ],
      "metadata": {
        "id": "AbrUF0N2mRs-"
      }
    },
    {
      "cell_type": "markdown",
      "source": [
        "Comprender la estructura del dataset y el significado de sus columnas. Esta etapa servirá para identificar qué variables son más relevantes para el análisis de evasión de clientes.\n",
        "\n",
        "✅ Explorar las columnas del dataset y verificar sus tipos de datos.\n",
        "\n",
        "✅ Consultar el diccionario para comprender mejor el significado de las variables.\n",
        "\n",
        "✅ Identificar las columnas más relevantes para el análisis de evasión."
      ],
      "metadata": {
        "id": "O1NzMRhSnxuy"
      }
    },
    {
      "cell_type": "markdown",
      "source": [
        "## 3. Carga y análisis."
      ],
      "metadata": {
        "id": "oRD_1KNKmRoI"
      }
    },
    {
      "cell_type": "markdown",
      "source": [],
      "metadata": {
        "id": "erEDlC2ToG0Q"
      }
    },
    {
      "cell_type": "markdown",
      "source": [],
      "metadata": {
        "id": "PgrfB3ZOnyZg"
      }
    },
    {
      "cell_type": "markdown",
      "source": [
        "## 4. Informe final"
      ],
      "metadata": {
        "id": "5AVVSDAymRdW"
      }
    },
    {
      "cell_type": "markdown",
      "source": [],
      "metadata": {
        "id": "AFAZehwIny7p"
      }
    },
    {
      "cell_type": "code",
      "execution_count": null,
      "metadata": {
        "id": "jCx34JRTmCyw"
      },
      "outputs": [],
      "source": []
    }
  ]
}